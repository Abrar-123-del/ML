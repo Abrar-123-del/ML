{
 "cells": [
  {
   "cell_type": "markdown",
   "id": "f7c37bdf-e9cc-4d4e-a58f-5172bc71667b",
   "metadata": {},
   "source": [
    "<h4>Label Encoder<h4>"
   ]
  },
  {
   "cell_type": "code",
   "execution_count": 1,
   "id": "d6c2314d-a8fd-4fb5-a970-ff3cb5d60322",
   "metadata": {},
   "outputs": [],
   "source": [
    "from sklearn.preprocessing import LabelEncoder"
   ]
  },
  {
   "cell_type": "code",
   "execution_count": 2,
   "id": "893e45b4-ac7a-4fb0-b163-8e10bbe2390d",
   "metadata": {},
   "outputs": [],
   "source": [
    "feedback = ['Poor', 'Fair', 'Good', 'Very Good', 'Excellent']\n",
    "encoder = LabelEncoder()\n",
    "encoded_feedback = encoder.fit_transform(feedback)"
   ]
  },
  {
   "cell_type": "code",
   "execution_count": 3,
   "id": "9d4bea6f-35f2-414f-b9fc-3a7a478b102a",
   "metadata": {},
   "outputs": [],
   "source": [
    "feedback_mapping = dict(zip(feedback, encoded_feedback))"
   ]
  },
  {
   "cell_type": "code",
   "execution_count": 4,
   "id": "c19e091c-4b41-4c40-9035-0f187473e0f6",
   "metadata": {},
   "outputs": [
    {
     "name": "stdout",
     "output_type": "stream",
     "text": [
      "Original feedback: ['Poor', 'Fair', 'Good', 'Very Good', 'Excellent']\n",
      "Encoded feedback: [3 1 2 4 0]\n",
      "Mapping of feedback categories: {'Poor': 3, 'Fair': 1, 'Good': 2, 'Very Good': 4, 'Excellent': 0}\n"
     ]
    }
   ],
   "source": [
    "print(\"Original feedback:\", feedback)\n",
    "print(\"Encoded feedback:\", encoded_feedback)\n",
    "print(\"Mapping of feedback categories:\", feedback_mapping)"
   ]
  },
  {
   "cell_type": "markdown",
   "id": "b1e573e7-d4e6-4f03-906c-7ad217b184ed",
   "metadata": {},
   "source": [
    "<h4>ONE HOT ENCODER<h4>"
   ]
  },
  {
   "cell_type": "code",
   "execution_count": 6,
   "id": "d10a96bb-1b9c-4ca1-8f59-8bd741bf5e77",
   "metadata": {},
   "outputs": [],
   "source": [
    "import pandas as pd"
   ]
  },
  {
   "cell_type": "code",
   "execution_count": 9,
   "id": "c58d9ba6-9a76-4b60-bf77-1ed1fd27c5d1",
   "metadata": {},
   "outputs": [],
   "source": [
    "fruits = ['apples', 'bananas', 'cherries']\n"
   ]
  },
  {
   "cell_type": "code",
   "execution_count": null,
   "id": "cb2a35e6-1202-40be-b1a3-17e3477f3621",
   "metadata": {},
   "outputs": [],
   "source": [
    "df = pd.DataFrame(fruits, columns=['Fruit'])\n"
   ]
  },
  {
   "cell_type": "code",
   "execution_count": null,
   "id": "b1d863bb-62bb-4b80-bd2f-6b2ef2aa9f07",
   "metadata": {},
   "outputs": [],
   "source": []
  },
  {
   "cell_type": "code",
   "execution_count": null,
   "id": "73b829f6-35ae-4cc3-8032-187ce31b4b1e",
   "metadata": {},
   "outputs": [],
   "source": [
    "one_hot = pd.get_dummies(df, columns=['Fruit'])"
   ]
  },
  {
   "cell_type": "code",
   "execution_count": 8,
   "id": "2626914b-42a4-4bff-9c64-a1ae8e978fb1",
   "metadata": {},
   "outputs": [
    {
     "name": "stdout",
     "output_type": "stream",
     "text": [
      "   Fruit_apples  Fruit_bananas  Fruit_cherries\n",
      "0          True          False           False\n",
      "1         False           True           False\n",
      "2         False          False            True\n"
     ]
    }
   ],
   "source": [
    "print(one_hot)"
   ]
  },
  {
   "cell_type": "code",
   "execution_count": null,
   "id": "580bd451-325f-4d7a-ba82-211325598c22",
   "metadata": {},
   "outputs": [],
   "source": []
  }
 ],
 "metadata": {
  "kernelspec": {
   "display_name": "Python 3 (ipykernel)",
   "language": "python",
   "name": "python3"
  },
  "language_info": {
   "codemirror_mode": {
    "name": "ipython",
    "version": 3
   },
   "file_extension": ".py",
   "mimetype": "text/x-python",
   "name": "python",
   "nbconvert_exporter": "python",
   "pygments_lexer": "ipython3",
   "version": "3.12.4"
  }
 },
 "nbformat": 4,
 "nbformat_minor": 5
}
